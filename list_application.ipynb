{
  "nbformat": 4,
  "nbformat_minor": 0,
  "metadata": {
    "colab": {
      "provenance": [],
      "authorship_tag": "ABX9TyPB1e3+ixpnQNxUzFoeU304",
      "include_colab_link": true
    },
    "kernelspec": {
      "name": "python3",
      "display_name": "Python 3"
    },
    "language_info": {
      "name": "python"
    }
  },
  "cells": [
    {
      "cell_type": "markdown",
      "metadata": {
        "id": "view-in-github",
        "colab_type": "text"
      },
      "source": [
        "<a href=\"https://colab.research.google.com/github/jamijaswanth12/TO-DO-LIST-APPLICATION/blob/main/list_application.ipynb\" target=\"_parent\"><img src=\"https://colab.research.google.com/assets/colab-badge.svg\" alt=\"Open In Colab\"/></a>"
      ]
    },
    {
      "cell_type": "code",
      "source": [
        "# Simple To-Do List Application in Python\n",
        "\n",
        "# Initialize an empty list to store tasks\n",
        "tasks = []\n",
        "\n",
        "# Function to display the menu\n",
        "def show_menu():\n",
        "    print(\"\\nTo-Do List Application\")\n",
        "    print(\"1. View Tasks\")\n",
        "    print(\"2. Add Task\")\n",
        "    print(\"3. Delete Task\")\n",
        "    print(\"4. Exit\")\n",
        "\n",
        "# Function to view all tasks\n",
        "def view_tasks():\n",
        "    if not tasks:\n",
        "        print(\"No tasks found. Your to-do list is empty!\")\n",
        "    else:\n",
        "        print(\"\\nYour Tasks:\")\n",
        "        for index, task in enumerate(tasks, start=1):\n",
        "            print(f\"{index}. {task}\")\n",
        "\n",
        "# Function to add a task\n",
        "def add_task():\n",
        "    task = input(\"Enter the task: \")\n",
        "    tasks.append(task)\n",
        "    print(f\"Task '{task}' added successfully!\")\n",
        "\n",
        "# Function to delete a task\n",
        "def delete_task():\n",
        "    view_tasks()\n",
        "    try:\n",
        "        task_number = int(input(\"Enter the task number to delete: \"))\n",
        "        if 1 <= task_number <= len(tasks):\n",
        "            removed_task = tasks.pop(task_number - 1)\n",
        "            print(f\"Task '{removed_task}' deleted successfully!\")\n",
        "        else:\n",
        "            print(\"Invalid task number!\")\n",
        "    except ValueError:\n",
        "        print(\"Please enter a valid number.\")\n",
        "\n",
        "# Main program loop\n",
        "def main():\n",
        "    while True:\n",
        "        show_menu()\n",
        "        choice = input(\"Enter your choice (1-4): \")\n",
        "\n",
        "        if choice == '1':\n",
        "            view_tasks()\n",
        "        elif choice == '2':\n",
        "            add_task()\n",
        "        elif choice == '3':\n",
        "            delete_task()\n",
        "        elif choice == '4':\n",
        "            print(\"Exiting the To-Do List Application. Goodbye!\")\n",
        "            break\n",
        "        else:\n",
        "            print(\"Invalid choice. Please try again.\")\n",
        "\n",
        "# Run the program\n",
        "if __name__ == \"__main__\":\n",
        "    main()"
      ],
      "metadata": {
        "id": "_Uj9v789eITl"
      },
      "execution_count": null,
      "outputs": []
    }
  ]
}